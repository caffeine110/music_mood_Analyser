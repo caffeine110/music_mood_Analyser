{
 "cells": [
  {
   "cell_type": "markdown",
   "metadata": {},
   "source": [
    "# Data Visualisation"
   ]
  },
  {
   "cell_type": "code",
   "execution_count": 1,
   "metadata": {},
   "outputs": [],
   "source": [
    "#importing lib\n",
    "\n",
    "import pandas as pd\n",
    "import numpy as np\n",
    "import matplotlib.pyplot as plt"
   ]
  },
  {
   "cell_type": "code",
   "execution_count": 2,
   "metadata": {},
   "outputs": [
    {
     "name": "stdout",
     "output_type": "stream",
     "text": [
      "Columns in dataframe are :\n",
      "Index(['file', 'artist', 'title', 'lyrics', 'genre', 'mood', 'year'], dtype='object')\n",
      "                    file         artist                    title  \\\n",
      "0  TRAAAAW128F429D538.h5         Casual         I Didn't Mean To   \n",
      "1  TRAAAEF128F4273421.h5       Adam Ant          Something Girls   \n",
      "2  TRAAAFD128F92F423A.h5            Gob           Face the Ashes   \n",
      "3  TRAABJV128F1460C49.h5  Lionel Richie  Tonight Will Be Alright   \n",
      "4  TRAABLR128F423B7E3.h5     Blue Rodeo                 Floating   \n",
      "\n",
      "                                              lyrics        genre   mood  year  \n",
      "0  Verse One:\\n\\nAlright I might\\nHave had a litt...  Hip Hop/Rap    sad  1994  \n",
      "1  Adam Ant/Marco Pirroni\\nEvery girl is a someth...         Rock  happy  1982  \n",
      "2  I've just erased it's been a while, I've got a...         Rock    sad  2007  \n",
      "3  Little darling \\nWhere you've been so long \\nI...          R&B  happy  1986  \n",
      "4  Lead Vocal by Greg\\n\\nWell, these late night c...         Rock    sad  1987  \n"
     ]
    }
   ],
   "source": [
    "# filepath to open a file\n",
    "filePath_o = '../data/train_lyrics_1000.csv'\n",
    "\n",
    "# dataframe\n",
    "df = pd.read_csv(filePath_o)\n",
    "\n",
    "print('Columns in dataframe are :')\n",
    "print(df.columns)\n",
    "\n",
    "print(df.head())"
   ]
  },
  {
   "cell_type": "code",
   "execution_count": 3,
   "metadata": {},
   "outputs": [
    {
     "name": "stdout",
     "output_type": "stream",
     "text": [
      "<class 'pandas.core.frame.DataFrame'>\n",
      "RangeIndex: 1000 entries, 0 to 999\n",
      "Data columns (total 7 columns):\n",
      "file      1000 non-null object\n",
      "artist    1000 non-null object\n",
      "title     1000 non-null object\n",
      "lyrics    1000 non-null object\n",
      "genre     1000 non-null object\n",
      "mood      1000 non-null object\n",
      "year      1000 non-null int64\n",
      "dtypes: int64(1), object(6)\n",
      "memory usage: 54.8+ KB\n",
      "None\n"
     ]
    }
   ],
   "source": [
    "# additional information about the dataset\n",
    "# data types\n",
    "print(df.info())"
   ]
  },
  {
   "cell_type": "code",
   "execution_count": 4,
   "metadata": {},
   "outputs": [
    {
     "name": "stdout",
     "output_type": "stream",
     "text": [
      "file      1000\n",
      "artist    1000\n",
      "title     1000\n",
      "lyrics    1000\n",
      "genre     1000\n",
      "mood      1000\n",
      "year      1000\n",
      "dtype: int64\n"
     ]
    }
   ],
   "source": [
    "# count to check there are not missing values\n",
    "print(df.count())"
   ]
  },
  {
   "cell_type": "markdown",
   "metadata": {},
   "source": [
    "# Column wise analysis"
   ]
  },
  {
   "cell_type": "code",
   "execution_count": 5,
   "metadata": {},
   "outputs": [
    {
     "data": {
      "text/plain": [
       "array(['sad', 'happy'], dtype=object)"
      ]
     },
     "execution_count": 5,
     "metadata": {},
     "output_type": "execute_result"
    }
   ],
   "source": [
    "# get unique mood values\n",
    "df.mood.unique()"
   ]
  },
  {
   "cell_type": "code",
   "execution_count": 6,
   "metadata": {},
   "outputs": [
    {
     "name": "stdout",
     "output_type": "stream",
     "text": [
      "446 554\n"
     ]
    }
   ],
   "source": [
    "# get count of mood\n",
    "happy, sad, = sum(df.loc[:, 'mood'] == 'happy'), sum(df.loc[:, 'mood'] == 'sad')\n",
    "\n",
    "# print count\n",
    "print(happy, sad)"
   ]
  },
  {
   "cell_type": "code",
   "execution_count": 7,
   "metadata": {
    "scrolled": true
   },
   "outputs": [
    {
     "data": {
      "image/png": "[encoded data removed]",
      "text/plain": [
       "<Figure size 432x288 with 1 Axes>"
      ]
     },
     "metadata": {},
     "output_type": "display_data"
    }
   ],
   "source": [
    "# plot pichart\n",
    "from matplotlib import rcParams\n",
    "rcParams['font.size'] = 18\n",
    "\n",
    "piechart = plt.pie(\n",
    "    (happy, sad),\n",
    "    labels=('happy','sad'),\n",
    "    shadow=True,\n",
    "    explode=(0,0.15), # space between slices \n",
    "    startangle=90,    # rotate conter-clockwise by 90 degrees\n",
    "    autopct='%1.1f%%',# display fraction as percentages\n",
    ")\n",
    "plt.axis('equal')\n",
    "plt.tight_layout()\n",
    "plt.savefig('piechart_happy_sad.png')"
   ]
  },
  {
   "cell_type": "markdown",
   "metadata": {},
   "source": [
    "# Data Distribution\n"
   ]
  },
  {
   "cell_type": "code",
   "execution_count": 8,
   "metadata": {},
   "outputs": [],
   "source": [
    "import seaborn as sns"
   ]
  },
  {
   "cell_type": "code",
   "execution_count": 9,
   "metadata": {},
   "outputs": [
    {
     "data": {
      "image/png": "[encoded data removed]",
      "text/plain": [
       "<Figure size 432x288 with 1 Axes>"
      ]
     },
     "metadata": {},
     "output_type": "display_data"
    }
   ],
   "source": [
    "sns.set_style('whitegrid')\n",
    "\n",
    "\n",
    "# plot histogram\n",
    "plt.hist(df['year'], bins=np.arange(1900, 2020,5))\n",
    "plt.xlabel('year')\n",
    "plt.ylabel('count')\n",
    "\n",
    "plt.xlim([df['year'].min()-5, df['year'].max()+10])\n",
    "\n",
    "plt.tight_layout()\n",
    "plt.savefig('hist_happy_sad.png')"
   ]
  },
  {
   "cell_type": "code",
   "execution_count": 10,
   "metadata": {},
   "outputs": [
    {
     "data": {
      "image/png": "[encoded data removed]",
      "text/plain": [
       "<Figure size 720x360 with 1 Axes>"
      ]
     },
     "metadata": {},
     "output_type": "display_data"
    }
   ],
   "source": [
    "# or same for the obove\n",
    "with sns.axes_style('white'):\n",
    "    g = sns.catplot(\"year\", data=df, aspect=2,\n",
    "                       kind=\"count\", color='steelblue')\n",
    "    g.set_xticklabels(step=5)"
   ]
  }
 ],
 "metadata": {
  "kernelspec": {
   "display_name": "Python 3",
   "language": "python",
   "name": "python3"
  },
  "language_info": {
   "codemirror_mode": {
    "name": "ipython",
    "version": 3
   },
   "file_extension": ".py",
   "mimetype": "text/x-python",
   "name": "python",
   "nbconvert_exporter": "python",
   "pygments_lexer": "ipython3",
   "version": "3.6.8"
  }
 },
 "nbformat": 4,
 "nbformat_minor": 2
}
